{
 "cells": [
  {
   "cell_type": "code",
   "execution_count": 1,
   "metadata": {},
   "outputs": [],
   "source": [
    "import numpy as np\n",
    "import cv2\n",
    "import matplotlib.pyplot as plt"
   ]
  },
  {
   "cell_type": "code",
   "execution_count": 7,
   "metadata": {},
   "outputs": [
    {
     "data": {
      "text/plain": [
       "<Figure size 432x288 with 0 Axes>"
      ]
     },
     "metadata": {},
     "output_type": "display_data"
    },
    {
     "data": {
      "image/png": "[encoded data removed]",
      "text/plain": [
       "<Figure size 720x720 with 8 Axes>"
      ]
     },
     "metadata": {
      "needs_background": "light"
     },
     "output_type": "display_data"
    }
   ],
   "source": [
    "def getImages(labelNumber):\n",
    "    \n",
    "    ID = str(labelNumber).zfill(6) + \".npy\"\n",
    "    #relPath = \"../../datasets/anuragAnnotations/warehouse/\"\n",
    "    relPath = \"./\"\n",
    "    topShelf = relPath + \"top\"+ID\n",
    "    #topBox = relPath + \"topBox\"+ID\n",
    "    frontShelf = relPath + \"front\"+ID\n",
    "    #frontBox = relPath + \"frontBox\"+ID\n",
    "    \n",
    "    topShelfFile = np.load(topShelf)\n",
    "    #topBoxFile = np.load(topBox)\n",
    "    frontShelfFile = np.load(frontShelf)\n",
    "    #frontBoxFile = np.load(frontBox)\n",
    "    \n",
    "    frontView = []\n",
    "    topView = []\n",
    "    for m in range(4):\n",
    "        \n",
    "        ts = topShelfFile[m,:,:]\n",
    "        #tb = topBoxFile[m,:,:]\n",
    "        fs = frontShelfFile[m,:,:]\n",
    "        #fb = frontBoxFile[m,:,:]\n",
    "        \n",
    "#         for i in range(len(ts)):\n",
    "#             for j in range(len(ts[i])):\n",
    "#                 if(fs[i,j] == 255):\n",
    "#                     fs[i,j] = 115\n",
    "                    \n",
    "#         for i in range(len(tb)):\n",
    "#             for j in range(len(tb[i])):\n",
    "#                 if(fb[i,j] == 255):\n",
    "#                     #print(\"Here\")\n",
    "#                     fs[i,j] = 255\n",
    "                    \n",
    "#         for i in range(len(ts)):\n",
    "#             for j in range(len(ts[i])):\n",
    "#                 if(ts[i,j] == 255):\n",
    "#                     ts[i,j] = 115\n",
    "                    \n",
    "#         for i in range(len(tb)):\n",
    "#             for j in range(len(tb[i])):\n",
    "#                 if(tb[i,j] == 255):\n",
    "#                     ts[i,j] = 255\n",
    "                    \n",
    "        frontView.append(fs)\n",
    "        topView.append(ts)\n",
    "    return frontView, topView\n",
    "                    \n",
    "#         plt.imshow(ts,cmap=\"gray\")\n",
    "#         plt.imshow(fs,cmap=\"gray\")\n",
    "#         plt.show()\n",
    "\n",
    "def viz_layouts(frontView, topView):\n",
    "    plt.figure()\n",
    "    fig, ax = plt.subplots(nrows=4, ncols=2,figsize=(10,10))\n",
    "\n",
    "    m = 0\n",
    "    for row in ax:\n",
    "        for col in row:\n",
    "            if(m%2 == 0):\n",
    "                cv2.imwrite(\"front\"+str(int(m/2))+\".png\", topView[int(m/2)])\n",
    "                col.imshow(topView[int(m/2)], cmap=\"gray\")\n",
    "                col.title.set_text('Top View of shelf number : %d'% (int(m/2)+1))\n",
    "            else:\n",
    "                cv2.imwrite(\"top\"+str(int(m/2))+\".png\", frontView[int(m/2)])\n",
    "                col.imshow(frontView[int(m/2)], cmap=\"gray\")\n",
    "                col.title.set_text('Front View of shelf number : %d'% (int(m/2)+1))\n",
    "            col.axis('off')\n",
    "            m += 1\n",
    "    plt.show()\n",
    "            \n",
    "\n",
    "labelNumberToAnnotate = 302\n",
    "frontView, topView = getImages(labelNumberToAnnotate)\n",
    "viz_layouts(frontView, topView)\n"
   ]
  }
 ],
 "metadata": {
  "kernelspec": {
   "display_name": "Python 3",
   "language": "python",
   "name": "python3"
  },
  "language_info": {
   "codemirror_mode": {
    "name": "ipython",
    "version": 3
   },
   "file_extension": ".py",
   "mimetype": "text/x-python",
   "name": "python",
   "nbconvert_exporter": "python",
   "pygments_lexer": "ipython3",
   "version": "3.6.9"
  }
 },
 "nbformat": 4,
 "nbformat_minor": 2
}
