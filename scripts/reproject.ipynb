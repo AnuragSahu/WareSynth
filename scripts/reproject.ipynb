{
 "cells": [
  {
   "cell_type": "code",
   "execution_count": 1,
   "metadata": {},
   "outputs": [],
   "source": [
    "import cv2\n",
    "import numpy as np\n",
    "import open3d as o3d"
   ]
  },
  {
   "cell_type": "code",
   "execution_count": 3,
   "metadata": {},
   "outputs": [],
   "source": [
    "def getProjected(depth,P):\n",
    "    \n",
    "    projected_points = []\n",
    "    \n",
    "    print(depth.shape)\n",
    "    print(P.shape)\n",
    "    print(np.linalg.inv(P)[:3, :])\n",
    "    x, y, z = depth.shape\n",
    "    \n",
    "    idx = 0\n",
    "    for i in range(x):\n",
    "        for j in range(y):\n",
    "            points_3D = np.linalg.inv(P)[:, :3] @ np.array([j,i,1])\n",
    "#             print(X.shape)\n",
    "            points_3D /= points_3D[3]\n",
    "            \n",
    "#             print(idx)\n",
    "            points_3D *= depth[i][j][0] \n",
    "            points_3D = points_3D.T\n",
    "            projected_points.append(points_3D)\n",
    "            idx += 1\n",
    "#         print(i)\n",
    "        \n",
    "    print(points_3D.shape)\n",
    "    r = 1080\n",
    "    c = 1920\n",
    "    output = np.zeros((c, r, 3))\n",
    "    i = 0\n",
    "    j = 0\n",
    "    \n",
    "    for p in range(points_3D.shape[0]):\n",
    "        output[i][j] = points_3D[p]\n",
    "        j += 1\n",
    "        \n",
    "        if j >= c:\n",
    "            j = 0\n",
    "            i += 1\n",
    "        \n",
    "    print(output.shape)\n",
    "    return output        "
   ]
  },
  {
   "cell_type": "code",
   "execution_count": 5,
   "metadata": {},
   "outputs": [
    {
     "name": "stdout",
     "output_type": "stream",
     "text": [
      "(1080, 1920, 3)\n",
      "(4, 4)\n",
      "[[ 1.    0.    0.    0.  ]\n",
      " [ 0.    1.    0.   -0.44]\n",
      " [ 0.    0.    1.    0.  ]]\n"
     ]
    },
    {
     "name": "stderr",
     "output_type": "stream",
     "text": [
      "/home/shashwat/anaconda3/lib/python3.7/site-packages/ipykernel_launcher.py:15: RuntimeWarning: divide by zero encountered in true_divide\n",
      "  from ipykernel import kernelapp as app\n",
      "/home/shashwat/anaconda3/lib/python3.7/site-packages/ipykernel_launcher.py:15: RuntimeWarning: invalid value encountered in true_divide\n",
      "  from ipykernel import kernelapp as app\n",
      "/home/shashwat/anaconda3/lib/python3.7/site-packages/ipykernel_launcher.py:18: RuntimeWarning: invalid value encountered in multiply\n"
     ]
    },
    {
     "name": "stdout",
     "output_type": "stream",
     "text": [
      "(4,)\n",
      "(1920, 1080, 3)\n",
      "(1920, 1080, 3)\n",
      "(0, 3)\n"
     ]
    },
    {
     "ename": "ValueError",
     "evalue": "all the input arrays must have same number of dimensions",
     "output_type": "error",
     "traceback": [
      "\u001b[0;31m---------------------------------------------------------------------------\u001b[0m",
      "\u001b[0;31mValueError\u001b[0m                                Traceback (most recent call last)",
      "\u001b[0;32m<ipython-input-5-afb40365bf4b>\u001b[0m in \u001b[0;36m<module>\u001b[0;34m\u001b[0m\n\u001b[1;32m     17\u001b[0m     \u001b[0mprint\u001b[0m\u001b[0;34m(\u001b[0m\u001b[0mall_pts\u001b[0m\u001b[0;34m.\u001b[0m\u001b[0mshape\u001b[0m\u001b[0;34m)\u001b[0m\u001b[0;34m\u001b[0m\u001b[0;34m\u001b[0m\u001b[0m\n\u001b[1;32m     18\u001b[0m \u001b[0;34m\u001b[0m\u001b[0m\n\u001b[0;32m---> 19\u001b[0;31m     \u001b[0mall_pts\u001b[0m \u001b[0;34m=\u001b[0m \u001b[0mnp\u001b[0m\u001b[0;34m.\u001b[0m\u001b[0mconcatenate\u001b[0m\u001b[0;34m(\u001b[0m\u001b[0;34m(\u001b[0m\u001b[0mall_pts\u001b[0m\u001b[0;34m,\u001b[0m\u001b[0mprojected_points\u001b[0m\u001b[0;34m)\u001b[0m\u001b[0;34m,\u001b[0m \u001b[0maxis\u001b[0m\u001b[0;34m=\u001b[0m\u001b[0;36m0\u001b[0m\u001b[0;34m)\u001b[0m\u001b[0;34m\u001b[0m\u001b[0;34m\u001b[0m\u001b[0m\n\u001b[0m\u001b[1;32m     20\u001b[0m     \u001b[0mall_colors\u001b[0m \u001b[0;34m=\u001b[0m \u001b[0mnp\u001b[0m\u001b[0;34m.\u001b[0m\u001b[0mconcatenate\u001b[0m\u001b[0;34m(\u001b[0m\u001b[0;34m(\u001b[0m\u001b[0mall_colors\u001b[0m\u001b[0;34m,\u001b[0m\u001b[0mcolors\u001b[0m\u001b[0;34m)\u001b[0m\u001b[0;34m,\u001b[0m \u001b[0maxis\u001b[0m\u001b[0;34m=\u001b[0m\u001b[0;36m0\u001b[0m\u001b[0;34m)\u001b[0m\u001b[0;34m\u001b[0m\u001b[0;34m\u001b[0m\u001b[0m\n",
      "\u001b[0;31mValueError\u001b[0m: all the input arrays must have same number of dimensions"
     ]
    }
   ],
   "source": [
    "all_pts = np.array([]).reshape(0,3)\n",
    "all_colors = np.array([]).reshape(0,3)\n",
    "for i in range(1, 2):\n",
    "    image = cv2.imread('../rendered_warehouse/camera_capture/images/Image000{}.png'.format(i))\n",
    "    depth = cv2.imread('../rendered_warehouse/camera_capture/depth/000{}.png'.format(i))\n",
    "\n",
    "\n",
    "    colors = cv2.cvtColor(image, cv2.COLOR_BGR2RGB)\n",
    "    \n",
    "    P = np.array([[1,0,0,0],\n",
    "                  [0,1,0,0.44*i],\n",
    "                  [0,0,1,0],\n",
    "                  [0,0,0,1]])\n",
    "    \n",
    "    projected_points = getProjected(depth,P)\n",
    "    print(projected_points.shape)\n",
    "    print(all_pts.shape)\n",
    "    \n",
    "    all_pts = np.concatenate((all_pts,projected_points), axis=0)\n",
    "    all_colors = np.concatenate((all_colors,colors), axis=0)"
   ]
  },
  {
   "cell_type": "code",
   "execution_count": null,
   "metadata": {},
   "outputs": [],
   "source": []
  },
  {
   "cell_type": "code",
   "execution_count": null,
   "metadata": {},
   "outputs": [],
   "source": [
    "mask = (\n",
    "        (-4000 <= all_pts[:, 0]) & (all_pts[:, 0] < 4000) &\n",
    "        (-4000 <= all_pts[:, 1]) & (all_pts[:, 1] < 4000) & \n",
    "        (-2000 <= all_pts[:, 2]) & (all_pts[:, 2] < 2000)\n",
    "    )\n",
    "\n",
    "plot_pts = all_pts[mask]\n",
    "plot_pts[:, 1] *= -1\n",
    "plot_colors = (all_colors[mask]/255.0).astype(float)\n",
    "\n",
    "pcd = o3d.geometry.PointCloud()\n",
    "vis = o3d.visualization.Visualizer()\n",
    "pcd.points = o3d.utility.Vector3dVector(plot_pts) #numpy_points is your Nx3 cloud\n",
    "pcd.colors = o3d.utility.Vector3dVector(plot_colors) #numpy_colors is an Nx3 matrix with the corresponding RGB colors\n",
    "\n",
    "o3d.visualization.draw_geometries([pcd])"
   ]
  },
  {
   "cell_type": "code",
   "execution_count": null,
   "metadata": {},
   "outputs": [],
   "source": [
    "o3d.io.write_point_cloud(\"point_cloud.pcd\",pcd)"
   ]
  }
 ],
 "metadata": {
  "kernelspec": {
   "display_name": "Python 3",
   "language": "python",
   "name": "python3"
  },
  "language_info": {
   "codemirror_mode": {
    "name": "ipython",
    "version": 3
   },
   "file_extension": ".py",
   "mimetype": "text/x-python",
   "name": "python",
   "nbconvert_exporter": "python",
   "pygments_lexer": "ipython3",
   "version": "3.7.3"
  }
 },
 "nbformat": 4,
 "nbformat_minor": 4
}
