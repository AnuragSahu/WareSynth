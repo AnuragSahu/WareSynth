{
 "cells": [
  {
   "cell_type": "code",
   "execution_count": 1,
   "metadata": {},
   "outputs": [],
   "source": [
    "import numpy as np\n",
    "import cv2\n",
    "import matplotlib.pyplot as plt"
   ]
  },
  {
   "cell_type": "code",
   "execution_count": 2,
   "metadata": {},
   "outputs": [
    {
     "ename": "FileNotFoundError",
     "evalue": "[Errno 2] No such file or directory: '../../datasets/anuragAnnotations/warehouse/topShelf000002.npy'",
     "output_type": "error",
     "traceback": [
      "\u001b[0;31m---------------------------------------------------------------------------\u001b[0m",
      "\u001b[0;31mFileNotFoundError\u001b[0m                         Traceback (most recent call last)",
      "\u001b[0;32m<ipython-input-2-1f82ee22d8b1>\u001b[0m in \u001b[0;36m<module>\u001b[0;34m\u001b[0m\n\u001b[1;32m     70\u001b[0m \u001b[0;34m\u001b[0m\u001b[0m\n\u001b[1;32m     71\u001b[0m \u001b[0mlabelNumberToAnnotate\u001b[0m \u001b[0;34m=\u001b[0m \u001b[0;36m2\u001b[0m\u001b[0;34m\u001b[0m\u001b[0;34m\u001b[0m\u001b[0m\n\u001b[0;32m---> 72\u001b[0;31m \u001b[0mfrontView\u001b[0m\u001b[0;34m,\u001b[0m \u001b[0mtopView\u001b[0m \u001b[0;34m=\u001b[0m \u001b[0mgetImages\u001b[0m\u001b[0;34m(\u001b[0m\u001b[0mlabelNumberToAnnotate\u001b[0m\u001b[0;34m)\u001b[0m\u001b[0;34m\u001b[0m\u001b[0;34m\u001b[0m\u001b[0m\n\u001b[0m\u001b[1;32m     73\u001b[0m \u001b[0mviz_layouts\u001b[0m\u001b[0;34m(\u001b[0m\u001b[0mfrontView\u001b[0m\u001b[0;34m,\u001b[0m \u001b[0mtopView\u001b[0m\u001b[0;34m)\u001b[0m\u001b[0;34m\u001b[0m\u001b[0;34m\u001b[0m\u001b[0m\n",
      "\u001b[0;32m<ipython-input-2-1f82ee22d8b1>\u001b[0m in \u001b[0;36mgetImages\u001b[0;34m(labelNumber)\u001b[0m\n\u001b[1;32m      8\u001b[0m     \u001b[0mfrontBox\u001b[0m \u001b[0;34m=\u001b[0m \u001b[0mrelPath\u001b[0m \u001b[0;34m+\u001b[0m \u001b[0;34m\"frontBox\"\u001b[0m\u001b[0;34m+\u001b[0m\u001b[0mID\u001b[0m\u001b[0;34m\u001b[0m\u001b[0;34m\u001b[0m\u001b[0m\n\u001b[1;32m      9\u001b[0m \u001b[0;34m\u001b[0m\u001b[0m\n\u001b[0;32m---> 10\u001b[0;31m     \u001b[0mtopShelfFile\u001b[0m \u001b[0;34m=\u001b[0m \u001b[0mnp\u001b[0m\u001b[0;34m.\u001b[0m\u001b[0mload\u001b[0m\u001b[0;34m(\u001b[0m\u001b[0mtopShelf\u001b[0m\u001b[0;34m)\u001b[0m\u001b[0;34m\u001b[0m\u001b[0;34m\u001b[0m\u001b[0m\n\u001b[0m\u001b[1;32m     11\u001b[0m     \u001b[0mtopBoxFile\u001b[0m \u001b[0;34m=\u001b[0m \u001b[0mnp\u001b[0m\u001b[0;34m.\u001b[0m\u001b[0mload\u001b[0m\u001b[0;34m(\u001b[0m\u001b[0mtopBox\u001b[0m\u001b[0;34m)\u001b[0m\u001b[0;34m\u001b[0m\u001b[0;34m\u001b[0m\u001b[0m\n\u001b[1;32m     12\u001b[0m     \u001b[0mfrontShelfFile\u001b[0m \u001b[0;34m=\u001b[0m \u001b[0mnp\u001b[0m\u001b[0;34m.\u001b[0m\u001b[0mload\u001b[0m\u001b[0;34m(\u001b[0m\u001b[0mfrontShelf\u001b[0m\u001b[0;34m)\u001b[0m\u001b[0;34m\u001b[0m\u001b[0;34m\u001b[0m\u001b[0m\n",
      "\u001b[0;32m~/.local/lib/python3.6/site-packages/numpy/lib/npyio.py\u001b[0m in \u001b[0;36mload\u001b[0;34m(file, mmap_mode, allow_pickle, fix_imports, encoding)\u001b[0m\n\u001b[1;32m    426\u001b[0m         \u001b[0mown_fid\u001b[0m \u001b[0;34m=\u001b[0m \u001b[0;32mFalse\u001b[0m\u001b[0;34m\u001b[0m\u001b[0;34m\u001b[0m\u001b[0m\n\u001b[1;32m    427\u001b[0m     \u001b[0;32melse\u001b[0m\u001b[0;34m:\u001b[0m\u001b[0;34m\u001b[0m\u001b[0;34m\u001b[0m\u001b[0m\n\u001b[0;32m--> 428\u001b[0;31m         \u001b[0mfid\u001b[0m \u001b[0;34m=\u001b[0m \u001b[0mopen\u001b[0m\u001b[0;34m(\u001b[0m\u001b[0mos_fspath\u001b[0m\u001b[0;34m(\u001b[0m\u001b[0mfile\u001b[0m\u001b[0;34m)\u001b[0m\u001b[0;34m,\u001b[0m \u001b[0;34m\"rb\"\u001b[0m\u001b[0;34m)\u001b[0m\u001b[0;34m\u001b[0m\u001b[0;34m\u001b[0m\u001b[0m\n\u001b[0m\u001b[1;32m    429\u001b[0m         \u001b[0mown_fid\u001b[0m \u001b[0;34m=\u001b[0m \u001b[0;32mTrue\u001b[0m\u001b[0;34m\u001b[0m\u001b[0;34m\u001b[0m\u001b[0m\n\u001b[1;32m    430\u001b[0m \u001b[0;34m\u001b[0m\u001b[0m\n",
      "\u001b[0;31mFileNotFoundError\u001b[0m: [Errno 2] No such file or directory: '../../datasets/anuragAnnotations/warehouse/topShelf000002.npy'"
     ]
    }
   ],
   "source": [
    "def getImages(labelNumber):\n",
    "    \n",
    "    ID = str(labelNumber).zfill(6) + \".npy\"\n",
    "    #relPath = \"../../datasets/anuragAnnotations/warehouse/\"\n",
    "    relPath = \"./\"\n",
    "    topShelf = relPath + \"topShelf\"+ID\n",
    "    topBox = relPath + \"topBox\"+ID\n",
    "    frontShelf = relPath + \"frontShelf\"+ID\n",
    "    frontBox = relPath + \"frontBox\"+ID\n",
    "    \n",
    "    topShelfFile = np.load(topShelf)\n",
    "    topBoxFile = np.load(topBox)\n",
    "    frontShelfFile = np.load(frontShelf)\n",
    "    frontBoxFile = np.load(frontBox)\n",
    "    \n",
    "    frontView = []\n",
    "    topView = []\n",
    "    for m in range(4):\n",
    "        \n",
    "        ts = topShelfFile[m,:,:]\n",
    "        tb = topBoxFile[m,:,:]\n",
    "        fs = frontShelfFile[m,:,:]\n",
    "        fb = frontBoxFile[m,:,:]\n",
    "        \n",
    "        for i in range(len(ts)):\n",
    "            for j in range(len(ts[i])):\n",
    "                if(fs[i,j] == 255):\n",
    "                    fs[i,j] = 115\n",
    "                    \n",
    "        for i in range(len(tb)):\n",
    "            for j in range(len(tb[i])):\n",
    "                if(fb[i,j] == 255):\n",
    "                    #print(\"Here\")\n",
    "                    fs[i,j] = 255\n",
    "                    \n",
    "        for i in range(len(ts)):\n",
    "            for j in range(len(ts[i])):\n",
    "                if(ts[i,j] == 255):\n",
    "                    ts[i,j] = 115\n",
    "                    \n",
    "        for i in range(len(tb)):\n",
    "            for j in range(len(tb[i])):\n",
    "                if(tb[i,j] == 255):\n",
    "                    ts[i,j] = 255\n",
    "                    \n",
    "        frontView.append(fs)\n",
    "        topView.append(ts)\n",
    "    return frontView, topView\n",
    "                    \n",
    "#         plt.imshow(ts,cmap=\"gray\")\n",
    "#         plt.imshow(fs,cmap=\"gray\")\n",
    "#         plt.show()\n",
    "\n",
    "def viz_layouts(frontView, topView):\n",
    "    plt.figure()\n",
    "    fig, ax = plt.subplots(nrows=4, ncols=2,figsize=(10,10))\n",
    "\n",
    "    m = 0\n",
    "    for row in ax:\n",
    "        for col in row:\n",
    "            if(m%2 == 0):\n",
    "                col.imshow(topView[int(m/2)], cmap=\"gray\")\n",
    "                col.title.set_text('Top View of shelf number : %d'% (int(m/2)+1))\n",
    "            else:\n",
    "                col.imshow(frontView[int(m/2)], cmap=\"gray\")\n",
    "                col.title.set_text('Front View of shelf number : %d'% (int(m/2)+1))\n",
    "            col.axis('off')\n",
    "            m += 1\n",
    "    plt.show()\n",
    "            \n",
    "\n",
    "labelNumberToAnnotate = 2\n",
    "frontView, topView = getImages(labelNumberToAnnotate)\n",
    "viz_layouts(frontView, topView)\n"
   ]
  }
 ],
 "metadata": {
  "kernelspec": {
   "display_name": "Python 3",
   "language": "python",
   "name": "python3"
  },
  "language_info": {
   "codemirror_mode": {
    "name": "ipython",
    "version": 3
   },
   "file_extension": ".py",
   "mimetype": "text/x-python",
   "name": "python",
   "nbconvert_exporter": "python",
   "pygments_lexer": "ipython3",
   "version": "3.6.9"
  }
 },
 "nbformat": 4,
 "nbformat_minor": 2
}
